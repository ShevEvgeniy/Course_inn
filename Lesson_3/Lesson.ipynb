{
 "cells": [
  {
   "cell_type": "markdown",
   "metadata": {},
   "source": [
    "# ДЗ по \"Введение в нейронные сети (Вебинар)\"\n",
    "\n",
    "Сдавать через Гитхаб.\n",
    "\n",
    "## Вебинар 3. TensorFlow \n",
    "* Домашнее задание:  \n",
    "  -\tПопробуйте улучшить работу нейронной сети (разобранную на уроке), обучавшейся на датасет Fashion-MNIST. \n",
    "Напишите в комментариях к уроку, какого результата вы добились от нейросети и что помогло улучшить её точност;  \n",
    "  -\tПоработайте с документацией TensorFlow. Попробуйте найти полезные команды TensorFlow, неразобранные на уроке;  \n",
    "  -\t*Попробуйте обучить нейронную сеть на TensorFlow 2 на датасете imdb_reviews.\n",
    "   \n",
    "Напишите в комментариях к уроку, какого результата вы добились от нейросети и что помогло улучшить её точность. чность"
   ]
  },
  {
   "cell_type": "code",
   "execution_count": null,
   "metadata": {},
   "outputs": [],
   "source": [
    "# Устанавливаем пакеты в окружение, если они не установлены\n",
    "# !pip install scikeras[tensorflow]\n",
    "# !pip install numpy\n",
    "# !pip install matplotlib"
   ]
  },
  {
   "cell_type": "markdown",
   "metadata": {},
   "source": [
    "## Установим пакет tensorflow в окружение\n",
    "см. [докуметация](https://www.tensorflow.org/install/pip?hl=ru)"
   ]
  },
  {
   "cell_type": "code",
   "execution_count": null,
   "metadata": {},
   "outputs": [],
   "source": []
  }
 ],
 "metadata": {
  "language_info": {
   "name": "python"
  }
 },
 "nbformat": 4,
 "nbformat_minor": 2
}
